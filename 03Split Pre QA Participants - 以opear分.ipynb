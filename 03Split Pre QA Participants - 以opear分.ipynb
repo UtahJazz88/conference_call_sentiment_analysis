{
 "cells": [
  {
   "cell_type": "code",
   "execution_count": 1,
   "id": "subject-istanbul",
   "metadata": {},
   "outputs": [],
   "source": [
    "import pandas as pd\n",
    "import re"
   ]
  },
  {
   "cell_type": "code",
   "execution_count": 82,
   "id": "environmental-renaissance",
   "metadata": {},
   "outputs": [],
   "source": [
    "\n",
    "df_sandp500_ECT_merge_without_spilt=pd.read_csv(\"D:/Script/sandp500_conference_earning_transcript.csv\")\n",
    "\n",
    "'''Spilt Presentation, Q&A, Company Participants, Conference Call Participants'''\n",
    "\n",
    "def find_marker(text, markers):\n",
    "    \"\"\"在文本中找到第一个出现的标记，并返回该标记和它的位置\"\"\"\n",
    "    first_index = len(text)  # 初始化一个极大的索引值作为比较基础\n",
    "    first_marker = None\n",
    "    for marker in markers:\n",
    "        index = text.find(marker)\n",
    "        if index != -1 and (first_marker is None or index < first_index):\n",
    "            first_index = index\n",
    "            first_marker = marker\n",
    "    return first_marker, first_index\n",
    "\n",
    "def extract_participants(text, start_markers, end_markers):\n",
    "    \"\"\"从可能的多个起始和结束标记中提取参与者列表\"\"\"\n",
    "    start_marker, start_index = find_marker(text, start_markers)\n",
    "    if start_marker is None:\n",
    "        return ['No sample']  # 如果没有找到起始标记，直接返回空列表\n",
    "\n",
    "    start_index += len(start_marker)  # 调整开始位置到标记之后\n",
    "\n",
    "    end_marker, end_index = find_marker(text[start_index:], end_markers)\n",
    "    if end_marker is not None:\n",
    "        end_index += start_index  # 调整结束索引为相对于整个文本的位置\n",
    "    else:\n",
    "        end_index = None\n",
    "\n",
    "    participant_section = text[start_index:end_index if end_index is not None else None]\n",
    "\n",
    "    # 使用正则表达式查找名字，适应名字中可能包含的点和连字符\n",
    "    '''20240418這個可以處理超多'''\n",
    "    pattern = re.compile(r'(\\b[\\w’\\'¡¦.]+(?:\\s[A-Z]\\w*\\.)?\\s[A-Z][’\\'\\w]+)(?=\\s(?:[–-]|¡V))')\n",
    "\n",
    "    participants = [match.group(1).strip() for match in pattern.finditer(participant_section)]\n",
    "    \n",
    "    return participants\n",
    "def split_presentation_QandA(text):\n",
    "    # 检查文本是否为空\n",
    "    if pd.notna(text):\n",
    "        # 提取 Company Participants 和 Conference Call Participants\n",
    "        clean_text = text.replace('\\n', ' ')\n",
    "        company_participants = extract_participants(clean_text, [\"Company Participants\", \"Executives\",\"Corporate Participants\",\"Company Representatives\"], [\"Conference Call Participants\", \"Analysts\"])\n",
    "        call_participants = extract_participants(clean_text, [\"Conference Call Participants\", \"Analysts\"], [\"Operator\"])\n",
    "\n",
    "        # 初始化段落\n",
    "        presentation = []\n",
    "        QandA = []\n",
    "        in_presentation = True  # Initially, everything is considered part of the presentation\n",
    "        in_QandA = False  # This will turn true once we hit 'Question-and-Answer Session'\n",
    "\n",
    "        # 分析文本，提取演示和问答部分\n",
    "        lines = text.split('\\n')\n",
    "        for line in lines:\n",
    "            if 'Question-and-Answer Session' in line:\n",
    "                # 找到 'Question-and-Answer Session', 标记问答开始\n",
    "                in_presentation = False\n",
    "                in_QandA = True\n",
    "                continue  # 跳过这一行\n",
    "            \n",
    "            if in_presentation:\n",
    "                presentation.append(line)\n",
    "            elif in_QandA:\n",
    "                QandA.append(line)\n",
    "        \n",
    "        # 将提取的信息添加到结果中\n",
    "        return (' '.join(presentation), ' '.join(QandA), company_participants, call_participants)\n",
    "    else:\n",
    "        # 如果文本为空，则返回空字符串和空列表\n",
    "        return \"\", \"\", [], []\n",
    "\n",
    "# 应用函数到 DataFrame 的每行，并创建新列\n",
    "df_sandp500_ECT_merge_without_spilt[['Presentation', 'QandA', 'CompanyParticipants', 'CallParticipants']] = \\\n",
    "    df_sandp500_ECT_merge_without_spilt['text'].apply(\n",
    "        lambda txt: pd.Series(split_presentation_QandA(txt))\n",
    "    )\n",
    "\n"
   ]
  },
  {
   "cell_type": "code",
   "execution_count": 47,
   "id": "published-storage",
   "metadata": {},
   "outputs": [
    {
     "name": "stdout",
     "output_type": "stream",
     "text": [
      "[]\n"
     ]
    }
   ],
   "source": [
    "# Check Nan/Missing value\n",
    "nan_pre_index = df_sandp500_ECT_merge_without_spilt[df_sandp500_ECT_merge_testagain['CompanyParticipants'].isna()].index\n",
    "nan_pre_index_list = nan_pre_index.tolist()\n",
    "print(nan_pre_index_list)"
   ]
  },
  {
   "cell_type": "code",
   "execution_count": 83,
   "id": "stupid-curtis",
   "metadata": {},
   "outputs": [],
   "source": [
    "df_sandp500_ECT_merge_without_spilt.to_csv(\"D:/Script/sandp500_conference_earning_transcript_participants.csv\", index=False)"
   ]
  },
  {
   "cell_type": "code",
   "execution_count": 85,
   "id": "stock-format",
   "metadata": {},
   "outputs": [],
   "source": [
    "# Since file is too huge, filter with only Presentation', 'QandA', 'CompanyParticipants', 'CallParticipants', 'title' part\n",
    "df_filtered = df_sandp500_ECT_merge_without_spilt[['Presentation', 'QandA', 'CompanyParticipants', 'CallParticipants', 'title']]\n",
    "df_filtered.to_csv(\"D:/Script/sandp500_pre_qanda_participantstranscript.csv\", index=False)"
   ]
  }
 ],
 "metadata": {
  "kernelspec": {
   "display_name": "Python 3",
   "language": "python",
   "name": "python3"
  },
  "language_info": {
   "codemirror_mode": {
    "name": "ipython",
    "version": 3
   },
   "file_extension": ".py",
   "mimetype": "text/x-python",
   "name": "python",
   "nbconvert_exporter": "python",
   "pygments_lexer": "ipython3",
   "version": "3.8.7"
  }
 },
 "nbformat": 4,
 "nbformat_minor": 5
}
